{
 "cells": [
  {
   "cell_type": "code",
   "execution_count": 1,
   "metadata": {},
   "outputs": [],
   "source": [
    "#####################################################################\n",
    "# This notebook is authored by: Ayan Paul                           #\n",
    "# Date: February 2021                                               #\n",
    "# If you use this code or the results from this work please cite:   # \n",
    "# Resurrecting bbh with kinematic shapes                            #\n",
    "# Christophe Grojean, Ayan Paul and Zuoni Qian                      #\n",
    "# arXiv:2011.13945 (https://arxiv.org/abs/2011.13945)               # \n",
    "#####################################################################\n",
    "\n",
    "import numpy as np\n",
    "import pandas as pd\n",
    "from sklearn import ensemble\n",
    "import sklearn.model_selection as ms\n",
    "import matplotlib.pyplot as plt\n",
    "import os\n",
    "import math as m\n",
    "import seaborn as sns\n",
    "import collections\n",
    "\n",
    "os.environ[\"CUDA_VISIBLE_DEVICES\"] = '0'\n",
    "os.environ['TF_CPP_MIN_LOG_LEVEL'] = '1'\n",
    "numThreads = 40\n",
    "\n",
    "# Set number of threads for inter-operator parallelism,\n",
    "# start with a single thread\n",
    "numInterOpThreads = 1\n",
    "\n",
    "# The total number of threads must be an integer multiple\n",
    "# of numInterOpThreads to make sure that all cores are used\n",
    "assert numThreads % numInterOpThreads == 0\n",
    "\n",
    "# Compute the number of intra-operator threads; the number\n",
    "# of OpenMP threads for low-level libraries must be set to\n",
    "# the same value for optimal performance\n",
    "numIntraOpThreads = numThreads // numInterOpThreads\n",
    "os.environ['OMP_NUM_THREADS'] = str(numIntraOpThreads)\n",
    "\n",
    "# Import TensorFlow after setting OMP_NUM_THREADS to make sure\n",
    "# that low-level libraries are initialised correctly\n",
    "import tensorflow as tf\n",
    "from tensorflow.keras.callbacks import Callback\n",
    "\n",
    "# Configure TensorFlow\n",
    "tf.config.threading.set_inter_op_parallelism_threads(numInterOpThreads)\n",
    "tf.config.threading.set_intra_op_parallelism_threads(numIntraOpThreads)\n",
    "\n",
    "seed = 42"
   ]
  },
  {
   "cell_type": "code",
   "execution_count": 2,
   "metadata": {},
   "outputs": [],
   "source": [
    "def fileparser(path, dlist, frac=0.5, sample=0, L=2):\n",
    "    \"\"\" The fileparser to read the events from a csv\n",
    "        argument:\n",
    "            path: the path to the file\n",
    "            dlist: the list of variables to be excluded\n",
    "            frac: the fraction of sample that will be the test sample when sample is set to 0\n",
    "            sample: the number of events that will be the train sample.\n",
    "            L: Luminosity scaling\n",
    "        returns:\n",
    "            df_train: the training dataframe\n",
    "            df_test: the testing dataframe\n",
    "            weight: the weight (related to crosssection)\n",
    "    \"\"\"\n",
    "    df = pd.read_csv(path, compression='gzip')\n",
    "    df.rename(columns={df.columns[0]: \"nbjet\"}, inplace = True) # to fix a bug in some versions of pandas where it replaces the first column name\n",
    "    df.drop(columns=dlist, inplace=True)\n",
    "    df.dropna(inplace=True) # another bug in pandas where it replaces the last line with NaN when readind a gzipped csv\n",
    "    n = len(df)\n",
    "    weight = int(round(np.abs(df['weight'].sum()) * 3. * 1e6 * L)) ## The abs(mean()) is taken to make the weight of ybyt +ve\n",
    "    df['weight'] = df['weight']/np.abs(df['weight'])\n",
    "    if sample != 0:\n",
    "        df_train = df.sample(n=sample, random_state=seed)\n",
    "        df_test = df.drop(df_train.index)\n",
    "    else :\n",
    "        df_test = df.sample(frac=frac, random_state=seed)\n",
    "        df_train = df.drop(df_test.index)\n",
    "    return df_train, df_test, weight\n",
    "\n",
    "\n",
    "def get_mclass(i, df_array, weight_array, ps_exp_class, model, seed=seed):\n",
    "    \"\"\" This function is used to create the confusion matrix\n",
    "        arguments:\n",
    "            i: integer corresponding to the class number\n",
    "            df_array: the array of the dataframes of the different classes\n",
    "            weight_array: the array of the weights for the different classes\n",
    "            ps_exp_class: the collection of the pseudo experiment events\n",
    "            seed: the seed for the random number generator\n",
    "        returns:\n",
    "            nevents: the number of events\n",
    "            sif: the significance\n",
    "    \"\"\"\n",
    "    mclass = []\n",
    "    for j in range(nchannels):\n",
    "        predict = model.predict(df_array[j].iloc[:,:-2].values)\n",
    "        mclass.append(collections.Counter(np.array([np.argmax(predict[i]) for i in range(len(predict))]))[i]/len(df_array[j])*weight_array[j]/weight_array[i])\n",
    "\n",
    "    sig = np.sqrt(ps_exp_class[i])*mclass[i]/np.sum(mclass)\n",
    "    nevents = np.round(ps_exp_class[i]/np.sum(mclass)*np.array(mclass)).astype(int)\n",
    "    print('sig: {:2.2f}, yb2 events: {}, ybyt events: {}, yt2 events: {}, zh events: {}, bbxaa events: {}'.format(sig, nevents[4], nevents[3], nevents[2], nevents[1], nevents[0]))\n",
    "    return nevents, sig \n",
    "\n",
    "\n",
    "class PrintDots(Callback):\n",
    "    \"\"\" Print dots to monitor the progress of the fit\n",
    "    \"\"\"\n",
    "    def on_epoch_end(self, epoch, logs):\n",
    "        logs = logs or {}\n",
    "        value = logs.get('val_loss')\n",
    "        if epoch % 50 == 0:\n",
    "            print(' epochs = ', epoch, ' val_loss = ', value)\n",
    "        print('*', end='')\n",
    "                \n",
    "class TerminateOnBaseline(Callback):\n",
    "    \"\"\" Callback that terminates training when monitored value reaches a specified baseline\n",
    "    \"\"\"\n",
    "    def __init__(self, monitor='val_loss', patience=200):\n",
    "        super(TerminateOnBaseline, self).__init__()\n",
    "        self.monitor = monitor\n",
    "        self.baseline = np.Inf\n",
    "        self.patience = patience\n",
    "        self.wait = 0\n",
    "        self.stopped_epoch = 0\n",
    "        self.best = np.Inf\n",
    "        self.best_weights = None\n",
    "        self.best_epoch = 0\n",
    "\n",
    "    def on_epoch_end(self, epoch, logs=None):\n",
    "        logs = logs or {}\n",
    "        value = logs.get(self.monitor)\n",
    "        if epoch == 0:\n",
    "            self.baseline = value/100.\n",
    "        if np.less(value, self.best):\n",
    "            self.best = value\n",
    "            self.wait = 0\n",
    "            self.best_weights = self.model.get_weights()\n",
    "            self.best_epoch = epoch\n",
    "        else:\n",
    "            self.wait += 1\n",
    "        if value is not None:\n",
    "            if value <= self.baseline and self.wait >= self.patience:\n",
    "                self.stopped_epoch = epoch\n",
    "                print('\\nepoch %d: Reached baseline, terminating training and lost patience' % epoch)\n",
    "                self.model.stop_training = True\n",
    "                print('Restoring model weights from the end of the best epoch: ' + str(self.best_epoch))\n",
    "                self.model.set_weights(self.best_weights)\n",
    "            elif self.wait >= self.patience:\n",
    "                self.baseline *= 2.5\n",
    "                self.wait = self.patience/2\n",
    "                \n",
    "def plot_history(history):\n",
    "    \"\"\" Plots to track the history of the metrics\n",
    "    \"\"\"\n",
    "    hist = pd.DataFrame(history.history)\n",
    "    hist['epoch'] = history.epoch\n",
    "\n",
    "    plt.figure()\n",
    "    plt.xlabel('epoch')\n",
    "    plt.ylabel('accuracy [y]')\n",
    "    plt.plot(hist['epoch'], hist['accuracy'], label='train accuracy')\n",
    "    plt.plot(hist['epoch'], hist['val_accuracy'], label='val accuracy')\n",
    "#     plt.ylim([0.5, 0.7])\n",
    "    plt.legend()\n",
    "    plt.show()\n",
    "\n",
    "    plt.figure()\n",
    "    plt.xlabel('epoch')\n",
    "    plt.ylabel('loss')\n",
    "    plt.plot(hist['epoch'], hist['loss'], label='train loss')\n",
    "    plt.plot(hist['epoch'], hist['val_loss'], label='val loss')\n",
    "#     plt.ylim([0.8, 1])\n",
    "    plt.legend()\n",
    "    plt.show()\n",
    "    \n",
    "def build_model(df, channels, width, layers, l1=0., l2=0.):\n",
    "    \"\"\" Build the model, define the optimizer and compile the model\n",
    "    \"\"\"\n",
    "    model = tf.keras.Sequential()\n",
    "    model.add(tf.keras.layers.Dense(width, activation='relu', input_shape=[len(df.keys())-1]))\n",
    "    for i in range (1, layers):\n",
    "        if l1 == 0. and l2 == 0.: \n",
    "            model.add(tf.keras.layers.Dense(width, activation='relu'))\n",
    "        else:\n",
    "            model.add(tf.keras.layers.Dense(width, activation='relu', \n",
    "                      kernel_regularizer=tf.keras.regularizers.L1(0.01), \n",
    "                      activity_regularizer=tf.keras.regularizers.L2(0.01)))\n",
    "    model.add(tf.keras.layers.Dense(channels, activation='softmax'))\n",
    "\n",
    "    model.compile(optimizer='adam',\n",
    "                  loss='sparse_categorical_crossentropy',\n",
    "                  metrics=['accuracy'])\n",
    "    return model"
   ]
  },
  {
   "cell_type": "markdown",
   "metadata": {},
   "source": [
    "## 14 TeV Analysis"
   ]
  },
  {
   "cell_type": "markdown",
   "metadata": {},
   "source": [
    "### Load the data"
   ]
  },
  {
   "cell_type": "code",
   "execution_count": 3,
   "metadata": {
    "pycharm": {
     "is_executing": false,
     "name": "#%%\n"
    }
   },
   "outputs": [
    {
     "name": "stdout",
     "output_type": "stream",
     "text": [
      "No. of yb2 events: train = 20000, test = 26740\n",
      "No. of ybyt events: train = 20000, test = 18341\n",
      "No. of yt2 events: train = 20000, test = 81774\n",
      "No. of zh events: train = 40000, test = 139021\n",
      "No. of bbxaa events: train = 100000, test = 37488\n"
     ]
    }
   ],
   "source": [
    "dlist = ['dphibb', 'etaaa', 'ptb2', 'drbamin', 'met', 'etaa2', 'etab1', 'etaa1', 'nbjet', 'etab2']\n",
    "names = [r'$n_{jet}$', r'$p_T^{b_1}$', r'$p_T^{\\gamma_1}$', r'$p_T^{\\gamma_2}$', r'$p_T^{\\gamma\\gamma}$', r'$m_{bb}$', r'$m_{\\gamma\\gamma}$', r'$m_{b_1h}$', r'$m_{bbh}$',\n",
    "           r'$H_T$', r'$\\delta R_{b\\gamma_1}$', r'$\\delta\\phi_{b\\gamma_1}$']\n",
    "\n",
    "# 14 TeV\n",
    "df_yb2, df_yb2_test, weight_yb2 = fileparser(\"../simulations/HL-LHC/yb2.csv.tar.gz\", dlist, sample=20000)\n",
    "df_ybyt, df_ybyt_test, weight_ybyt = fileparser(\"../simulations/HL-LHC/ybyt.csv.tar.gz\", dlist, sample=20000)\n",
    "df_yt2, df_yt2_test, weight_yt2 = fileparser(\"../simulations/HL-LHC/yt2.csv.tar.gz\", dlist, sample=20000)\n",
    "df_zh, df_zh_test, weight_zh = fileparser(\"../simulations/HL-LHC/zh.csv.tar.gz\", dlist, sample=40000)\n",
    "df_bbxaa, df_bbxaa_test, weight_bbxaa = fileparser(\"../simulations/HL-LHC/bbxaa.csv.tar.gz\", dlist, sample=100000)\n",
    "\n",
    "print(\"No. of yb2 events: train = {}, test = {}\".format(df_yb2.shape[0],df_yb2_test.shape[0]))\n",
    "print(\"No. of ybyt events: train = {}, test = {}\".format(df_ybyt.shape[0],df_ybyt_test.shape[0]))\n",
    "print(\"No. of yt2 events: train = {}, test = {}\".format(df_yt2.shape[0],df_yt2_test.shape[0]))\n",
    "print(\"No. of zh events: train = {}, test = {}\".format(df_zh.shape[0],df_zh_test.shape[0]))\n",
    "print(\"No. of bbxaa events: train = {}, test = {}\".format(df_bbxaa.shape[0],df_bbxaa_test.shape[0]))"
   ]
  },
  {
   "cell_type": "code",
   "execution_count": 4,
   "metadata": {},
   "outputs": [
    {
     "name": "stdout",
     "output_type": "stream",
     "text": [
      "Model: \"sequential\"\n",
      "_________________________________________________________________\n",
      "Layer (type)                 Output Shape              Param #   \n",
      "=================================================================\n",
      "dense (Dense)                (None, 16)                208       \n",
      "_________________________________________________________________\n",
      "dense_1 (Dense)              (None, 16)                272       \n",
      "_________________________________________________________________\n",
      "dense_2 (Dense)              (None, 2)                 34        \n",
      "=================================================================\n",
      "Total params: 514\n",
      "Trainable params: 514\n",
      "Non-trainable params: 0\n",
      "_________________________________________________________________\n"
     ]
    }
   ],
   "source": [
    "channels = [df_yb2, df_zh]\n",
    "nchannels = len(channels)\n",
    "df_train = pd.concat(channels, ignore_index=True)\n",
    "df_train = df_train.sample(frac=1).reset_index(drop=True)\n",
    "\n",
    "model = build_model(df_yb2.iloc[:,:-1], nchannels, 16, 2)\n",
    "model.summary() "
   ]
  },
  {
   "cell_type": "code",
   "execution_count": 5,
   "metadata": {
    "pycharm": {
     "is_executing": false,
     "name": "#%%\n"
    }
   },
   "outputs": [
    {
     "name": "stdout",
     "output_type": "stream",
     "text": [
      " epochs =  0  val_loss =  0.5904138684272766\n",
      "************************************************** epochs =  50  val_loss =  0.4484022259712219\n",
      "************************************************** epochs =  100  val_loss =  0.4459605813026428\n",
      "************************************************** epochs =  150  val_loss =  0.4394237995147705\n",
      "************************************************** epochs =  200  val_loss =  0.43768343329429626\n",
      "************************************************** epochs =  250  val_loss =  0.43969544768333435\n",
      "************************************************** epochs =  300  val_loss =  0.4336608350276947\n",
      "************************************************** epochs =  350  val_loss =  0.43632280826568604\n",
      "************************************************** epochs =  400  val_loss =  0.4325242042541504\n",
      "************************************************** epochs =  450  val_loss =  0.43139132857322693\n",
      "************************************************** epochs =  500  val_loss =  0.43017667531967163\n",
      "************************************************** epochs =  550  val_loss =  0.4337942600250244\n",
      "************************************************** epochs =  600  val_loss =  0.43228471279144287\n",
      "************************************************** epochs =  650  val_loss =  0.43022704124450684\n",
      "************************************************** epochs =  700  val_loss =  0.4311171770095825\n",
      "************************************************** epochs =  750  val_loss =  0.4338361918926239\n",
      "************************************************** epochs =  800  val_loss =  0.4287985563278198\n",
      "************************************************** epochs =  850  val_loss =  0.43008342385292053\n",
      "**************\n",
      "epoch 864: Reached baseline, terminating training and lost patience\n",
      "Restoring model weights from the end of the best epoch: 814\n",
      "*\n",
      " Epochs =  864\n"
     ]
    },
    {
     "data": {
      "image/png": "[encoded data removed]",
      "text/plain": [
       "<Figure size 432x288 with 1 Axes>"
      ]
     },
     "metadata": {
      "needs_background": "light"
     },
     "output_type": "display_data"
    },
    {
     "data": {
      "image/png": "[encoded data removed]",
      "text/plain": [
       "<Figure size 432x288 with 1 Axes>"
      ]
     },
     "metadata": {
      "needs_background": "light"
     },
     "output_type": "display_data"
    },
    {
     "name": "stdout",
     "output_type": "stream",
     "text": [
      "Testing set accuracy for yb2: 59.88%\n",
      "Testing set accuracy for zh: 89.99%\n"
     ]
    }
   ],
   "source": [
    "# learning_rate = 0.003\n",
    "EPOCHS = 200000\n",
    "patience = 50\n",
    "df_train_set = df_train.iloc[:,:-1]\n",
    "df_train_labels = df_train_set.pop('class')\n",
    "df_train_labels[df_train_labels == 4] = 0\n",
    "\n",
    "df_yb2_test_cp = df_yb2_test.iloc[:,:-1]\n",
    "df_yb2_test_cp['class'] = 0\n",
    "\n",
    "df_zh_test_cp = df_zh_test.drop(df_zh_test[df_zh_test.iloc[:,-1]<0].index)\n",
    "df_zh_test_cp = df_zh_test_cp.iloc[:,:-1]\n",
    "\n",
    "\n",
    "\n",
    "\"\"\" Extract the history of the fit\n",
    "\"\"\"\n",
    "history = model.fit(\n",
    "    df_train_set, df_train_labels,\n",
    "    epochs=EPOCHS, validation_split = 0.2, verbose=0, batch_size=320,\n",
    "    callbacks=[TerminateOnBaseline(monitor='val_loss', patience=patience), PrintDots()])\n",
    "\n",
    "\"\"\" Extract the history and make some plots\n",
    "\"\"\"\n",
    "print(\"\\n\", \"Epochs = \", history.epoch[-1])\n",
    "plot_history(history)\n",
    "\n",
    "loss, accuracy = model.evaluate(df_yb2_test_cp.iloc[:,:-1], df_yb2_test_cp.iloc[:,-1], verbose=0)\n",
    "print(\"Testing set accuracy for yb2: {:4.2f}%\".format(accuracy*100))\n",
    "loss, accuracy = model.evaluate(df_zh_test_cp.iloc[:,:-1], df_zh_test_cp.iloc[:,-1], verbose=0)\n",
    "print(\"Testing set accuracy for zh: {:4.2f}%\".format(accuracy*100))"
   ]
  },
  {
   "cell_type": "code",
   "execution_count": 6,
   "metadata": {
    "pycharm": {
     "is_executing": false,
     "name": "#%%\n"
    }
   },
   "outputs": [
    {
     "data": {
      "image/png": "[encoded data removed]",
      "text/plain": [
       "<Figure size 432x288 with 1 Axes>"
      ]
     },
     "metadata": {
      "needs_background": "light"
     },
     "output_type": "display_data"
    }
   ],
   "source": [
    "disc = 0\n",
    "enc = 100\n",
    "test_predictions_yb2 = model.predict(df_yb2_test_cp.sample(n=round(weight_yb2*1.5*enc), replace=True).reset_index(drop=True).iloc[:,:-1])[:,disc]\n",
    "test_predictions_zh = model.predict(df_zh_test_cp.sample(n=round(weight_zh*1.3*enc), replace=True).reset_index(drop=True).iloc[:,:-1])[:,disc]\n",
    "\n",
    "\n",
    "plt.figure(figsize=(6,4))\n",
    "plt.rc('text', usetex=True)\n",
    "plt.rcParams['text.latex.preamble'] = [r\"\\usepackage{amsmath}\"]\n",
    "sns.distplot(test_predictions_yb2, kde=False, bins=np.arange(0, 1 + 0.04, 0.04),\n",
    "             hist_kws={'alpha': 0.8, 'histtype': 'step', 'linewidth': 3, 'weights': [1/enc]*len(test_predictions_yb2)}, label=r'$y_b^2$', color='#da3b46')\n",
    "sns.distplot(test_predictions_zh, kde=False, bins=np.arange(0, 1 + 0.04, 0.04),\n",
    "             hist_kws={'alpha': 0.8, 'histtype': 'step', 'linewidth': 3, 'weights': [1/enc]*len(test_predictions_zh)}, label=r'$Zh$', color='#3f7f93')\n",
    "plt.legend(loc='upper center', fontsize=14)\n",
    "plt.grid(linestyle='dashed', alpha=0.4, color='#808080')\n",
    "ax = plt.gca()\n",
    "ax.tick_params(axis='both', which='major', labelsize=14)\n",
    "plt.xlabel(r'$p(y_b^2)$', fontsize=14)\n",
    "plt.ylabel(r'$N$', fontsize=14)\n",
    "plt.yscale('log')\n",
    "plt.tight_layout()\n",
    "plt.savefig('../plots/zh-yb2-DNN-dist.pdf', dpi=300)"
   ]
  },
  {
   "cell_type": "code",
   "execution_count": 8,
   "metadata": {},
   "outputs": [
    {
     "name": "stdout",
     "output_type": "stream",
     "text": [
      "Model: \"sequential_1\"\n",
      "_________________________________________________________________\n",
      "Layer (type)                 Output Shape              Param #   \n",
      "=================================================================\n",
      "dense_3 (Dense)              (None, 64)                832       \n",
      "_________________________________________________________________\n",
      "dense_4 (Dense)              (None, 64)                4160      \n",
      "_________________________________________________________________\n",
      "dense_5 (Dense)              (None, 64)                4160      \n",
      "_________________________________________________________________\n",
      "dense_6 (Dense)              (None, 64)                4160      \n",
      "_________________________________________________________________\n",
      "dense_7 (Dense)              (None, 64)                4160      \n",
      "_________________________________________________________________\n",
      "dense_8 (Dense)              (None, 64)                4160      \n",
      "_________________________________________________________________\n",
      "dense_9 (Dense)              (None, 64)                4160      \n",
      "_________________________________________________________________\n",
      "dense_10 (Dense)             (None, 64)                4160      \n",
      "_________________________________________________________________\n",
      "dense_11 (Dense)             (None, 64)                4160      \n",
      "_________________________________________________________________\n",
      "dense_12 (Dense)             (None, 64)                4160      \n",
      "_________________________________________________________________\n",
      "dense_13 (Dense)             (None, 64)                4160      \n",
      "_________________________________________________________________\n",
      "dense_14 (Dense)             (None, 64)                4160      \n",
      "_________________________________________________________________\n",
      "dense_15 (Dense)             (None, 5)                 325       \n",
      "=================================================================\n",
      "Total params: 46,917\n",
      "Trainable params: 46,917\n",
      "Non-trainable params: 0\n",
      "_________________________________________________________________\n"
     ]
    }
   ],
   "source": [
    "channels = [df_bbxaa, df_zh, df_yt2, df_ybyt, df_yb2]\n",
    "nchannels = len(channels)\n",
    "df_train = pd.concat(channels, ignore_index=True)\n",
    "df_train = df_train.sample(frac=1).reset_index(drop=True)\n",
    "\n",
    "# Special treatment for ybyt\n",
    "df_tmp = pd.read_csv(\"../simulations/HL-LHC/ybyt.csv.tar.gz\")\n",
    "ybyt_ratio = df_tmp[df_tmp['weight']<0].shape[0]/df_tmp[df_tmp['weight']>0].shape[0]\n",
    "\n",
    "model = build_model(df_yb2.iloc[:,:-1], nchannels, 64, 12)\n",
    "model.summary() \n",
    "# 64, 12"
   ]
  },
  {
   "cell_type": "code",
   "execution_count": 9,
   "metadata": {},
   "outputs": [
    {
     "name": "stdout",
     "output_type": "stream",
     "text": [
      " epochs =  0  val_loss =  1.15348482131958\n",
      "************************************************** epochs =  50  val_loss =  0.9587079286575317\n",
      "************************************************** epochs =  100  val_loss =  0.9536436796188354\n",
      "************************************************** epochs =  150  val_loss =  0.9466859102249146\n",
      "************************************************** epochs =  200  val_loss =  0.9869623184204102\n",
      "************************************************** epochs =  250  val_loss =  0.9853026270866394\n",
      "***********************************\n",
      "epoch 285: Reached baseline, terminating training and lost patience\n",
      "Restoring model weights from the end of the best epoch: 110\n",
      "*\n",
      " Epochs =  285\n"
     ]
    },
    {
     "data": {
      "image/png": "[encoded data removed]",
      "text/plain": [
       "<Figure size 432x288 with 1 Axes>"
      ]
     },
     "metadata": {
      "needs_background": "light"
     },
     "output_type": "display_data"
    },
    {
     "data": {
      "image/png": "[encoded data removed]",
      "text/plain": [
       "<Figure size 432x288 with 1 Axes>"
      ]
     },
     "metadata": {
      "needs_background": "light"
     },
     "output_type": "display_data"
    },
    {
     "name": "stdout",
     "output_type": "stream",
     "text": [
      "Testing set accuracy for yb2: 27.49%\n",
      "Testing set accuracy for ybyt: 18.10%\n",
      "Testing set accuracy for yt2: 26.25%\n",
      "Testing set accuracy for zh: 63.68%\n",
      "Testing set accuracy for bbxaa: 87.73%\n"
     ]
    }
   ],
   "source": [
    "# learning_rate = 0.003\n",
    "EPOCHS = 200000\n",
    "patience = 50\n",
    "df_train_set = df_train.iloc[:,:-1]\n",
    "df_train_labels = df_train_set.pop('class')\n",
    "\n",
    "df_zh_test = df_zh_test.drop(df_zh_test[df_zh_test.iloc[:,-1]<0].index)\n",
    "df_yt2_test = df_yt2_test.drop(df_yt2_test[df_yt2_test.iloc[:,-1]<0].index)\n",
    "\n",
    "\"\"\" Extract the history of the fit\n",
    "\"\"\"\n",
    "history = model.fit(\n",
    "    df_train_set, df_train_labels,\n",
    "    epochs=EPOCHS, validation_split = 0.2, verbose=0, batch_size=320,\n",
    "    callbacks=[TerminateOnBaseline(monitor='val_loss', patience=patience), PrintDots()])\n",
    "\n",
    "\"\"\" Extract the history and make some plots\n",
    "\"\"\"\n",
    "print(\"\\n\", \"Epochs = \", history.epoch[-1])\n",
    "plot_history(history)\n",
    "\n",
    "loss, accuracy = model.evaluate(df_yb2_test.iloc[:,:-2], df_yb2_test['class'], verbose=0)\n",
    "print(\"Testing set accuracy for yb2: {:4.2f}%\".format(accuracy*100))\n",
    "loss, accuracy = model.evaluate(df_ybyt_test.iloc[:,:-2], df_ybyt_test['class'], verbose=0)\n",
    "print(\"Testing set accuracy for ybyt: {:4.2f}%\".format(accuracy*100))\n",
    "loss, accuracy = model.evaluate(df_yt2_test.iloc[:,:-2], df_yt2_test['class'], verbose=0)\n",
    "print(\"Testing set accuracy for yt2: {:4.2f}%\".format(accuracy*100))\n",
    "loss, accuracy = model.evaluate(df_zh_test.iloc[:,:-2], df_zh_test['class'], verbose=0)\n",
    "print(\"Testing set accuracy for zh: {:4.2f}%\".format(accuracy*100))\n",
    "loss, accuracy = model.evaluate(df_bbxaa_test.iloc[:,:-2], df_bbxaa_test['class'], verbose=0)\n",
    "print(\"Testing set accuracy for bbxaa: {:4.2f}%\".format(accuracy*100))"
   ]
  },
  {
   "cell_type": "code",
   "execution_count": 10,
   "metadata": {},
   "outputs": [
    {
     "name": "stdout",
     "output_type": "stream",
     "text": [
      "sig: 3.09, yb2 events: 156, ybyt events: 5, yt2 events: 213, zh events: 22, bbxaa events: 2167\n",
      "sig: 0.38, yb2 events: 49, ybyt events: 17, yt2 events: 96, zh events: 23, bbxaa events: 1898\n",
      "sig: 10.28, yb2 events: 56, ybyt events: 4, yt2 events: 490, zh events: 24, bbxaa events: 1693\n",
      "sig: 4.23, yb2 events: 113, ybyt events: 25, yt2 events: 525, zh events: 415, bbxaa events: 8512\n",
      "sig: 317.15, yb2 events: 207, ybyt events: 44, yt2 events: 523, zh events: 165, bbxaa events: 101512\n"
     ]
    }
   ],
   "source": [
    "df_array = [df_bbxaa_test, df_zh_test, df_yt2_test, df_ybyt_test, df_yb2_test]\n",
    "weight_array = [weight_bbxaa*1.5, weight_zh*1.3, weight_yt2*2.5, weight_ybyt*1.9, weight_yb2*1.5]\n",
    "\n",
    "predict = model.predict(pd.concat([df_array[4].iloc[:,:-2].sample(n=round(weight_array[4]), random_state=seed), \n",
    "                                                                     df_array[3].iloc[:,:-2].sample(n=round(weight_array[3]), random_state=seed), \n",
    "                                                                     df_array[2].iloc[:,:-2].sample(n=round(weight_array[2]), random_state=seed), \n",
    "                                                                     df_array[1].iloc[:,:-2].sample(n=round(weight_array[1]), random_state=seed),\n",
    "                                                                     df_array[0].iloc[:,:-2].sample(n=round(weight_array[0]), random_state=seed, replace=True)]).values)\n",
    "\n",
    "ps_exp_class = collections.Counter(np.array([np.argmax(predict[i]) for i in range(len(predict))]))\n",
    "\n",
    "nevents_yb2, sig_yb2 = get_mclass(4, df_array, weight_array, ps_exp_class, model)\n",
    "nevents_ybyt, sig_ybyt = get_mclass(3, df_array, weight_array, ps_exp_class, model)\n",
    "nevents_yt2, sig_yt2 = get_mclass(2, df_array, weight_array, ps_exp_class, model)\n",
    "nevents_zh, sig_zh = get_mclass(1, df_array, weight_array, ps_exp_class, model)\n",
    "nevents_bbxaa, sig_bbxaa = get_mclass(0, df_array, weight_array, ps_exp_class, model)\n",
    "confusion = np.column_stack((nevents_yb2, nevents_ybyt, nevents_yt2, nevents_zh, nevents_bbxaa))"
   ]
  },
  {
   "cell_type": "code",
   "execution_count": 11,
   "metadata": {},
   "outputs": [
    {
     "name": "stdout",
     "output_type": "stream",
     "text": [
      "sig: 3.09, yb2 events: 156, ybyt events: 2, yt2 events: 214, zh events: 22, bbxaa events: 2169\n",
      "sig: 0.19, yb2 events: 49, ybyt events: 8, yt2 events: 96, zh events: 23, bbxaa events: 1901\n",
      "sig: 10.29, yb2 events: 56, ybyt events: 2, yt2 events: 490, zh events: 24, bbxaa events: 1693\n",
      "sig: 4.24, yb2 events: 113, ybyt events: 19, yt2 events: 525, zh events: 415, bbxaa events: 8513\n",
      "sig: 317.16, yb2 events: 207, ybyt events: 28, yt2 events: 523, zh events: 165, bbxaa events: 101505\n"
     ]
    }
   ],
   "source": [
    "df_ybyt_test_pos = df_ybyt_test[df_ybyt_test['weight']==1]\n",
    "df_array = [df_bbxaa_test, df_zh_test, df_yt2_test, df_ybyt_test_pos, df_yb2_test]\n",
    "weight_array = [weight_bbxaa*1.5, weight_zh*1.3, weight_yt2*2.5, (1./(ybyt_ratio-1.))*weight_ybyt*1.9, weight_yb2*1.5]\n",
    "\n",
    "predict = model.predict(pd.concat([df_array[4].iloc[:,:-2].sample(n=round(weight_array[4]), random_state=seed), \n",
    "                                                                     df_array[3].iloc[:,:-2].sample(n=round(weight_array[3]), random_state=seed), \n",
    "                                                                     df_array[2].iloc[:,:-2].sample(n=round(weight_array[2]), random_state=seed), \n",
    "                                                                     df_array[1].iloc[:,:-2].sample(n=round(weight_array[1]), random_state=seed),\n",
    "                                                                     df_array[0].iloc[:,:-2].sample(n=round(weight_array[0]), random_state=seed, replace=True)]).values)\n",
    "\n",
    "ps_exp_class = collections.Counter(np.array([np.argmax(predict[i]) for i in range(len(predict))]))\n",
    "\n",
    "nevents_yb2, sig_yb2 = get_mclass(4, df_array, weight_array, ps_exp_class, model)\n",
    "nevents_ybyt, sig_ybyt = get_mclass(3, df_array, weight_array, ps_exp_class, model)\n",
    "nevents_yt2, sig_yt2 = get_mclass(2, df_array, weight_array, ps_exp_class, model)\n",
    "nevents_zh, sig_zh = get_mclass(1, df_array, weight_array, ps_exp_class, model)\n",
    "nevents_bbxaa, sig_bbxaa = get_mclass(0, df_array, weight_array, ps_exp_class, model)\n",
    "confusion_pos = np.column_stack((nevents_yb2, nevents_ybyt, nevents_yt2, nevents_zh, nevents_bbxaa))"
   ]
  },
  {
   "cell_type": "code",
   "execution_count": 12,
   "metadata": {},
   "outputs": [
    {
     "name": "stdout",
     "output_type": "stream",
     "text": [
      "sig: 3.09, yb2 events: 157, ybyt events: 8, yt2 events: 214, zh events: 22, bbxaa events: 2171\n",
      "sig: 0.67, yb2 events: 49, ybyt events: 31, yt2 events: 96, zh events: 23, bbxaa events: 1891\n",
      "sig: 10.28, yb2 events: 56, ybyt events: 7, yt2 events: 490, zh events: 24, bbxaa events: 1695\n",
      "sig: 4.23, yb2 events: 113, ybyt events: 38, yt2 events: 525, zh events: 415, bbxaa events: 8523\n",
      "sig: 317.09, yb2 events: 207, ybyt events: 71, yt2 events: 523, zh events: 165, bbxaa events: 101501\n"
     ]
    }
   ],
   "source": [
    "df_ybyt_test_neg = df_ybyt_test[df_ybyt_test['weight']==-1]\n",
    "df_array = [df_bbxaa_test, df_zh_test, df_yt2_test, df_ybyt_test_neg, df_yb2_test]\n",
    "weight_array = [weight_bbxaa*1.5, weight_zh*1.3, weight_yt2*2.5, (ybyt_ratio/(ybyt_ratio-1.))*weight_ybyt*1.9, weight_yb2*1.5]\n",
    "\n",
    "predict = model.predict(pd.concat([df_array[4].iloc[:,:-2].sample(n=round(weight_array[4]), random_state=seed), \n",
    "                                                                     df_array[3].iloc[:,:-2].sample(n=round(weight_array[3]), random_state=seed), \n",
    "                                                                     df_array[2].iloc[:,:-2].sample(n=round(weight_array[2]), random_state=seed), \n",
    "                                                                     df_array[1].iloc[:,:-2].sample(n=round(weight_array[1]), random_state=seed),\n",
    "                                                                     df_array[0].iloc[:,:-2].sample(n=round(weight_array[0]), random_state=seed, replace=True)]).values)\n",
    "\n",
    "ps_exp_class = collections.Counter(np.array([np.argmax(predict[i]) for i in range(len(predict))]))\n",
    "\n",
    "nevents_yb2, sig_yb2 = get_mclass(4, df_array, weight_array, ps_exp_class, model)\n",
    "nevents_ybyt, sig_ybyt = get_mclass(3, df_array, weight_array, ps_exp_class, model)\n",
    "nevents_yt2, sig_yt2 = get_mclass(2, df_array, weight_array, ps_exp_class, model)\n",
    "nevents_zh, sig_zh = get_mclass(1, df_array, weight_array, ps_exp_class, model)\n",
    "nevents_bbxaa, sig_bbxaa = get_mclass(0, df_array, weight_array, ps_exp_class, model)\n",
    "confusion_neg = np.column_stack((nevents_yb2, nevents_ybyt, nevents_yt2, nevents_zh, nevents_bbxaa))"
   ]
  },
  {
   "cell_type": "code",
   "execution_count": 13,
   "metadata": {},
   "outputs": [
    {
     "name": "stdout",
     "output_type": "stream",
     "text": [
      "\\begin{tabular}{lrrrrrr}\n",
      "\\toprule\n",
      "{} &      $y_b^2$ &     $y_by_t$ &      $y_t^2$ &         $Zh$ &  $bb\\gamma\\gamma$ &     total \\\\\n",
      "\\midrule\n",
      "$y_b^2$          &   156.000000 &    49.000000 &    56.000000 &   113.000000 &        207.000000 &     581.0 \\\\\n",
      "$y_by_t$         &    -6.000000 &   -23.000000 &    -5.000000 &   -19.000000 &        -43.000000 &     -96.0 \\\\\n",
      "$y_t^2$          &   214.000000 &    96.000000 &   490.000000 &   525.000000 &        523.000000 &    1848.0 \\\\\n",
      "$Zh$             &    22.000000 &    23.000000 &    24.000000 &   415.000000 &        165.000000 &     649.0 \\\\\n",
      "$bb\\gamma\\gamma$ &  2170.000000 &  1896.000000 &  1694.000000 &  8518.000000 &     101503.000000 &  115781.0 \\\\\n",
      "$\\sigma$         &     3.085632 &     0.509104 &    10.309509 &     4.246205 &        317.266595 &       0.0 \\\\\n",
      "\\bottomrule\n",
      "\\end{tabular}\n",
      "\n"
     ]
    }
   ],
   "source": [
    "confusion_tot = np.round(np.array([confusion_pos[4]*0.5, confusion_pos[3], confusion_pos[2]*0.5, confusion_pos[1]*0.5, confusion_pos[0]*0.5])\n",
    "        +np.array([confusion_neg[4]*0.5, -confusion_neg[3], confusion_neg[2]*0.5, confusion_neg[1]*0.5, confusion_neg[0]*0.5])).astype(int)\n",
    "confusion_tot_tmp = confusion_tot\n",
    "event_total = np.array([[np.sum(confusion_tot[i])] for i in range(confusion_tot.shape[0])])\n",
    "significance = np.array([np.abs(confusion_tot[i,i])/np.sqrt(np.sum(confusion_tot[:,i])) for i in range(confusion_tot.shape[0])])\n",
    "significance = np.append(significance, 0)\n",
    "confusion_tab1 = np.append(confusion_tot_tmp, event_total, axis=1)\n",
    "confusion_tab2 = np.vstack((confusion_tab1, significance))\n",
    "    \n",
    "df_conf = pd.DataFrame(confusion_tab2, [r'$y_b^2$', r'$y_by_t$', r'$y_t^2$', r'$Zh$', r'$bb\\gamma\\gamma$', r'$\\sigma$'])\n",
    "df_conf.columns = [r'$y_b^2$', r'$y_by_t$', r'$y_t^2$', r'$Zh$', r'$bb\\gamma\\gamma$', 'total']\n",
    "print(df_conf.to_latex(escape=False))"
   ]
  }
 ],
 "metadata": {
  "kernelspec": {
   "display_name": "env",
   "language": "python",
   "name": "env"
  },
  "language_info": {
   "codemirror_mode": {
    "name": "ipython",
    "version": 3
   },
   "file_extension": ".py",
   "mimetype": "text/x-python",
   "name": "python",
   "nbconvert_exporter": "python",
   "pygments_lexer": "ipython3",
   "version": "3.6.7"
  }
 },
 "nbformat": 4,
 "nbformat_minor": 4
}
